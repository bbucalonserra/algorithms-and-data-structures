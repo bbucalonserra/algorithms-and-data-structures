{
 "cells": [
  {
   "cell_type": "markdown",
   "metadata": {},
   "source": [
    "# Bubblet Sort\n",
    "\n",
    "Worse time complexity: O(n²).\n",
    "\n",
    "Reason: There are one nested loop. Since Each loop counts as n, it will be n x n = n².\n"
   ]
  },
  {
   "cell_type": "code",
   "execution_count": 1,
   "metadata": {},
   "outputs": [],
   "source": [
    "values = [\n",
    "    9, 5, 1, 4\n",
    "    ]"
   ]
  },
  {
   "cell_type": "code",
   "execution_count": 2,
   "metadata": {},
   "outputs": [],
   "source": [
    "def swap(array, i, j):\n",
    "    # Attributing x to array in i (because after the swap, the value in i is lost)\n",
    "    x = array[i]\n",
    "    \n",
    "    # Swap i by j\n",
    "    array[i] = array[j]\n",
    "\n",
    "    # Swap j by x (previously i)\n",
    "    array[j] = x\n",
    "\n",
    "    # Return\n",
    "    return array"
   ]
  },
  {
   "cell_type": "code",
   "execution_count": null,
   "metadata": {},
   "outputs": [],
   "source": [
    "def bubble_sort(array):\n",
    "    # The \"j\" will ONLY define the quantity of times the internal loop (that uses \"i\") will happen.\n",
    "    for j in range(len(array)):\n",
    "\n",
    "        # Variable to stop if the array is already sorted\n",
    "        swapped = False\n",
    "\n",
    "        # Here, it will swap until the penultimate value (since we are using i + 1, we can't do it until the last one since i + 1 will not exist)\n",
    "        for i in range(len(array) - 1):\n",
    "                if array[i + 1] < array[i]:\n",
    "                    # Swapping\n",
    "                    array[i], array[i + 1] = array[i+1], array[i] # OR APPLY SWAP FUNCTION: swap(array, i, i + 1)\n",
    "\n",
    "                    # If swapped, True\n",
    "                    swapped =  True\n",
    "\n",
    "        # If there was no swap (meaning, the swapped variable kept false), it means that the \n",
    "        if swapped == False:\n",
    "            break\n",
    "\n",
    "    # Return\n",
    "    return array"
   ]
  },
  {
   "cell_type": "code",
   "execution_count": 117,
   "metadata": {},
   "outputs": [
    {
     "data": {
      "text/plain": [
       "[1, 4, 5, 9]"
      ]
     },
     "execution_count": 117,
     "metadata": {},
     "output_type": "execute_result"
    }
   ],
   "source": [
    "bubble_sort(values)"
   ]
  }
 ],
 "metadata": {
  "kernelspec": {
   "display_name": "Python 3",
   "language": "python",
   "name": "python3"
  },
  "language_info": {
   "codemirror_mode": {
    "name": "ipython",
    "version": 3
   },
   "file_extension": ".py",
   "mimetype": "text/x-python",
   "name": "python",
   "nbconvert_exporter": "python",
   "pygments_lexer": "ipython3",
   "version": "3.13.0"
  }
 },
 "nbformat": 4,
 "nbformat_minor": 2
}
